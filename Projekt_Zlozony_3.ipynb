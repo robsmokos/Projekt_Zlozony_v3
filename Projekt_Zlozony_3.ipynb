{
  "nbformat": 4,
  "nbformat_minor": 0,
  "metadata": {
    "colab": {
      "provenance": [],
      "authorship_tag": "ABX9TyNDI4EGnOZ23mPfdsYqXl9G",
      "include_colab_link": true
    },
    "kernelspec": {
      "name": "python3",
      "display_name": "Python 3"
    },
    "language_info": {
      "name": "python"
    }
  },
  "cells": [
    {
      "cell_type": "markdown",
      "metadata": {
        "id": "view-in-github",
        "colab_type": "text"
      },
      "source": [
        "<a href=\"https://colab.research.google.com/github/robsmokos/Projekt_Zlozony_v3/blob/main/Projekt_Zlozony_3.ipynb\" target=\"_parent\"><img src=\"https://colab.research.google.com/assets/colab-badge.svg\" alt=\"Open In Colab\"/></a>"
      ]
    },
    {
      "cell_type": "markdown",
      "source": [
        "# Projekt Złożony podejście_3"
      ],
      "metadata": {
        "id": "xzMAKzQMP_Pp"
      }
    },
    {
      "cell_type": "markdown",
      "source": [
        "Próba pobrania danych bezpośrednio z serwisu SPOTYFY"
      ],
      "metadata": {
        "id": "3rKB6um-ybQQ"
      }
    },
    {
      "cell_type": "code",
      "source": [
        "pip install spotipy"
      ],
      "metadata": {
        "colab": {
          "base_uri": "https://localhost:8080/"
        },
        "id": "p-KUdr7QQ7kx",
        "outputId": "ca5f82a8-b38e-4c4a-8684-35b7734414c8",
        "collapsed": true
      },
      "execution_count": null,
      "outputs": [
        {
          "output_type": "stream",
          "name": "stdout",
          "text": [
            "Collecting spotipy\n",
            "  Downloading spotipy-2.24.0-py3-none-any.whl.metadata (4.9 kB)\n",
            "Collecting redis>=3.5.3 (from spotipy)\n",
            "  Downloading redis-5.2.1-py3-none-any.whl.metadata (9.1 kB)\n",
            "Requirement already satisfied: requests>=2.25.0 in /usr/local/lib/python3.10/dist-packages (from spotipy) (2.32.3)\n",
            "Requirement already satisfied: urllib3>=1.26.0 in /usr/local/lib/python3.10/dist-packages (from spotipy) (2.2.3)\n",
            "Requirement already satisfied: async-timeout>=4.0.3 in /usr/local/lib/python3.10/dist-packages (from redis>=3.5.3->spotipy) (4.0.3)\n",
            "Requirement already satisfied: charset-normalizer<4,>=2 in /usr/local/lib/python3.10/dist-packages (from requests>=2.25.0->spotipy) (3.4.0)\n",
            "Requirement already satisfied: idna<4,>=2.5 in /usr/local/lib/python3.10/dist-packages (from requests>=2.25.0->spotipy) (3.10)\n",
            "Requirement already satisfied: certifi>=2017.4.17 in /usr/local/lib/python3.10/dist-packages (from requests>=2.25.0->spotipy) (2024.8.30)\n",
            "Downloading spotipy-2.24.0-py3-none-any.whl (30 kB)\n",
            "Downloading redis-5.2.1-py3-none-any.whl (261 kB)\n",
            "\u001b[2K   \u001b[90m━━━━━━━━━━━━━━━━━━━━━━━━━━━━━━━━━━━━━━━━\u001b[0m \u001b[32m261.5/261.5 kB\u001b[0m \u001b[31m7.0 MB/s\u001b[0m eta \u001b[36m0:00:00\u001b[0m\n",
            "\u001b[?25hInstalling collected packages: redis, spotipy\n",
            "Successfully installed redis-5.2.1 spotipy-2.24.0\n"
          ]
        }
      ]
    },
    {
      "cell_type": "code",
      "source": [
        "import spotipy\n",
        "from spotipy.oauth2 import SpotifyClientCredentials\n",
        "\n",
        "# Konfiguracja aplikacji Spotify\n",
        "CLIENT_ID = \"201745d11caf4fbb893a6d738c491d55\"\n",
        "CLIENT_SECRET = \"ac3ca7483a0143bf82582d665d03b293\"\n",
        "\n",
        "# Autoryzacja za pomocą Client Credentials\n",
        "auth_manager = SpotifyClientCredentials(client_id=CLIENT_ID, client_secret=CLIENT_SECRET)\n",
        "sp = spotipy.Spotify(auth_manager=auth_manager)\n"
      ],
      "metadata": {
        "id": "2ceCTrPsTvIS"
      },
      "execution_count": null,
      "outputs": []
    },
    {
      "cell_type": "code",
      "source": [
        "# Pobranie utworów wydanych w styczniu 2024\n",
        "def fetch_tracks_january_2024(year, month, limit=50):\n",
        "    tracks = []\n",
        "    for day in range(1, 32):  # Styczeń ma 31 dni\n",
        "        offset = 0\n",
        "        query = f\"year:{year} month:{month:02d} day:{day:02d}\"  # Filtr na rok, miesiąc i dzień\n",
        "        print(f\"\\nPobieranie utworów dla daty: {year}-{month:02d}-{day:02d}\")\n",
        "\n",
        "        while True:\n",
        "            # Pobieranie wyników wyszukiwania\n",
        "            results = sp.search(q=query, type=\"track\", limit=limit, offset=offset)\n",
        "            items = results['tracks']['items']\n",
        "            tracks.extend(items)\n",
        "\n",
        "            # Wyświetlanie postępu\n",
        "            print(f\"Pobrano {len(items)} wyników (łącznie: {len(tracks)})\")\n",
        "\n",
        "            # Sprawdzenie, czy są kolejne strony wyników\n",
        "            if len(items) < limit:  # Jeśli mniej wyników niż limit, osiągnięto koniec\n",
        "                break\n",
        "            offset += limit  # Przejście do następnej strony\n",
        "\n",
        "    return tracks\n",
        "\n",
        "# Wywołanie funkcji dla stycznia 2024\n",
        "tracks_january_2024 = fetch_tracks_january_2024(2024, 1)\n",
        "\n",
        "# Wyświetlenie pierwszych 10 wyników\n",
        "print(\"\\nPierwsze 10 utworów wydanych w styczniu 2024:\")\n",
        "for track in tracks_january_2024[:10]:\n",
        "    print(f\"{track['name']} - {track['artists'][0]['name']}\")\n"
      ],
      "metadata": {
        "colab": {
          "base_uri": "https://localhost:8080/"
        },
        "id": "41ap933NWpEq",
        "outputId": "0616de1b-679a-451b-9206-7c0bd75d02f8",
        "collapsed": true
      },
      "execution_count": null,
      "outputs": [
        {
          "output_type": "stream",
          "name": "stdout",
          "text": [
            "\n",
            "Pobieranie utworów dla daty: 2024-01-01\n",
            "Pobrano 0 wyników (łącznie: 0)\n",
            "\n",
            "Pobieranie utworów dla daty: 2024-01-02\n",
            "Pobrano 0 wyników (łącznie: 0)\n",
            "\n",
            "Pobieranie utworów dla daty: 2024-01-03\n",
            "Pobrano 0 wyników (łącznie: 0)\n",
            "\n",
            "Pobieranie utworów dla daty: 2024-01-04\n",
            "Pobrano 0 wyników (łącznie: 0)\n",
            "\n",
            "Pobieranie utworów dla daty: 2024-01-05\n",
            "Pobrano 0 wyników (łącznie: 0)\n",
            "\n",
            "Pobieranie utworów dla daty: 2024-01-06\n",
            "Pobrano 0 wyników (łącznie: 0)\n",
            "\n",
            "Pobieranie utworów dla daty: 2024-01-07\n",
            "Pobrano 0 wyników (łącznie: 0)\n",
            "\n",
            "Pobieranie utworów dla daty: 2024-01-08\n",
            "Pobrano 0 wyników (łącznie: 0)\n",
            "\n",
            "Pobieranie utworów dla daty: 2024-01-09\n",
            "Pobrano 0 wyników (łącznie: 0)\n",
            "\n",
            "Pobieranie utworów dla daty: 2024-01-10\n",
            "Pobrano 0 wyników (łącznie: 0)\n",
            "\n",
            "Pobieranie utworów dla daty: 2024-01-11\n",
            "Pobrano 0 wyników (łącznie: 0)\n",
            "\n",
            "Pobieranie utworów dla daty: 2024-01-12\n",
            "Pobrano 0 wyników (łącznie: 0)\n",
            "\n",
            "Pobieranie utworów dla daty: 2024-01-13\n",
            "Pobrano 0 wyników (łącznie: 0)\n",
            "\n",
            "Pobieranie utworów dla daty: 2024-01-14\n",
            "Pobrano 0 wyników (łącznie: 0)\n",
            "\n",
            "Pobieranie utworów dla daty: 2024-01-15\n",
            "Pobrano 0 wyników (łącznie: 0)\n",
            "\n",
            "Pobieranie utworów dla daty: 2024-01-16\n",
            "Pobrano 0 wyników (łącznie: 0)\n",
            "\n",
            "Pobieranie utworów dla daty: 2024-01-17\n",
            "Pobrano 0 wyników (łącznie: 0)\n",
            "\n",
            "Pobieranie utworów dla daty: 2024-01-18\n",
            "Pobrano 0 wyników (łącznie: 0)\n",
            "\n",
            "Pobieranie utworów dla daty: 2024-01-19\n",
            "Pobrano 0 wyników (łącznie: 0)\n",
            "\n",
            "Pobieranie utworów dla daty: 2024-01-20\n",
            "Pobrano 0 wyników (łącznie: 0)\n",
            "\n",
            "Pobieranie utworów dla daty: 2024-01-21\n",
            "Pobrano 0 wyników (łącznie: 0)\n",
            "\n",
            "Pobieranie utworów dla daty: 2024-01-22\n",
            "Pobrano 0 wyników (łącznie: 0)\n",
            "\n",
            "Pobieranie utworów dla daty: 2024-01-23\n",
            "Pobrano 0 wyników (łącznie: 0)\n",
            "\n",
            "Pobieranie utworów dla daty: 2024-01-24\n",
            "Pobrano 0 wyników (łącznie: 0)\n",
            "\n",
            "Pobieranie utworów dla daty: 2024-01-25\n",
            "Pobrano 0 wyników (łącznie: 0)\n",
            "\n",
            "Pobieranie utworów dla daty: 2024-01-26\n",
            "Pobrano 0 wyników (łącznie: 0)\n",
            "\n",
            "Pobieranie utworów dla daty: 2024-01-27\n",
            "Pobrano 0 wyników (łącznie: 0)\n",
            "\n",
            "Pobieranie utworów dla daty: 2024-01-28\n",
            "Pobrano 0 wyników (łącznie: 0)\n",
            "\n",
            "Pobieranie utworów dla daty: 2024-01-29\n",
            "Pobrano 0 wyników (łącznie: 0)\n",
            "\n",
            "Pobieranie utworów dla daty: 2024-01-30\n",
            "Pobrano 0 wyników (łącznie: 0)\n",
            "\n",
            "Pobieranie utworów dla daty: 2024-01-31\n",
            "Pobrano 0 wyników (łącznie: 0)\n",
            "\n",
            "Pierwsze 10 utworów wydanych w styczniu 2024:\n"
          ]
        }
      ]
    },
    {
      "cell_type": "markdown",
      "source": [
        "# SPRINT 1"
      ],
      "metadata": {
        "id": "xZFykai9yuVU"
      }
    }
  ]
}